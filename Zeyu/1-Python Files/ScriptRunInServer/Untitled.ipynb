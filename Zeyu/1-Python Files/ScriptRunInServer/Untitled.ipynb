{
 "cells": [
  {
   "cell_type": "code",
   "execution_count": 52,
   "metadata": {},
   "outputs": [],
   "source": [
    "import model_server"
   ]
  },
  {
   "cell_type": "code",
   "execution_count": 68,
   "metadata": {},
   "outputs": [
    {
     "name": "stdout",
     "output_type": "stream",
     "text": [
      "['AB193', 'AB186', 'AB192', 'AB156', 'AB188', 'AB190', 'AB194', 'AB185', 'AB191', 'AB189']\n"
     ]
    }
   ],
   "source": [
    "r=[]\n",
    "for (dirpath, dirnames, filenames) in os.walk('../../../../../zhangkuangen/Zeyu/Dataset'):\n",
    "    print(dirnames)\n",
    "    r.extend(dirnames)\n",
    "    break"
   ]
  },
  {
   "cell_type": "code",
   "execution_count": 69,
   "metadata": {},
   "outputs": [
    {
     "data": {
      "text/plain": [
       "['AB193',\n",
       " 'AB186',\n",
       " 'AB192',\n",
       " 'AB156',\n",
       " 'AB188',\n",
       " 'AB190',\n",
       " 'AB194',\n",
       " 'AB185',\n",
       " 'AB191',\n",
       " 'AB189']"
      ]
     },
     "execution_count": 69,
     "metadata": {},
     "output_type": "execute_result"
    }
   ],
   "source": [
    "r"
   ]
  },
  {
   "cell_type": "code",
   "execution_count": 54,
   "metadata": {},
   "outputs": [
    {
     "data": {
      "text/plain": [
       "['AB193',\n",
       " 'AB186',\n",
       " 'AB192',\n",
       " 'AB156',\n",
       " 'Subject_Trigger_Channel_Feature_Information.xlsx',\n",
       " 'AB188',\n",
       " 'Instrumentation_Setup.jpg',\n",
       " 'ENABL3S_Validation_for_Level_Walking.docx',\n",
       " 'AB190',\n",
       " 'ENABL3S_Description.docx',\n",
       " 'AB194',\n",
       " 'AB185',\n",
       " 'AB191',\n",
       " 'AB189']"
      ]
     },
     "execution_count": 54,
     "metadata": {},
     "output_type": "execute_result"
    }
   ],
   "source": [
    "os.listdir('../../../../../zhangkuangen/Zeyu/Dataset')"
   ]
  },
  {
   "cell_type": "code",
   "execution_count": 53,
   "metadata": {},
   "outputs": [
    {
     "name": "stdout",
     "output_type": "stream",
     "text": [
      "\n",
      "Configuration:\n",
      "CHOOSEDCHANNELS                []\n",
      "DATAPATH                       ../../../../../Dataset\n",
      "DataType                       ['Features', 'MVC', 'Processed', 'Raw']\n",
      "INDEX_EMG                      [30, 31, 32, 33, 34, 35, 36, 37, 38, 39, 40, 41, 42, 43]\n",
      "INDEX_GONIO                    [44, 45, 46, 47, 48, 49, 50, 51]\n",
      "INDEX_IMU                      [0, 1, 2, 3, 4, 5, 6, 7, 8, 9, 10, 11, 12, 13, 14, 15, 16, 17, 18, 19, 20, 21, 22, 23, 24, 25, 26, 27, 28, 29]\n",
      "IfReadAll                      False\n",
      "IfSplitData                    True\n",
      "LABELCATEGORIES                ['Sitting', 'Level Ground Walking', 'Ramp Ascent', 'Ramp Descent', 'Stair Ascent', 'Stair Descent', 'Standing']\n",
      "LEARNING_RATE                  0.001\n",
      "MAXABS_PREPROCESS              False\n",
      "SCANEDSubjects                 []\n",
      "SPILTRATIO                     0.33\n",
      "STEPS_PER_EPOCH                1000\n",
      "STEP_SIZE                      50\n",
      "Subjects                       []\n",
      "WINDOW_SIZE                    100\n",
      "\n",
      "\n"
     ]
    }
   ],
   "source": [
    "OnlineData = model_server.DATA(ReadALLSubjs=False,SplitData=True)\n",
    "OnlineData.displayConfig()\n",
    "#OnlineData.scandata(Subj=[1])"
   ]
  },
  {
   "cell_type": "code",
   "execution_count": null,
   "metadata": {},
   "outputs": [],
   "source": [
    "OnlineData.stackdata(ChooseSensors=['IMU'])\n",
    "OnlineData.PreprocessData(Preprocess='AbsMax')"
   ]
  },
  {
   "cell_type": "code",
   "execution_count": 56,
   "metadata": {},
   "outputs": [
    {
     "data": {
      "text/plain": [
       "['AB193',\n",
       " 'AB186',\n",
       " 'AB192',\n",
       " 'AB156',\n",
       " 'Subject_Trigger_Channel_Feature_Information.xlsx',\n",
       " 'AB188',\n",
       " 'Instrumentation_Setup.jpg',\n",
       " 'ENABL3S_Validation_for_Level_Walking.docx',\n",
       " 'AB190',\n",
       " 'ENABL3S_Description.docx',\n",
       " 'AB194',\n",
       " 'AB185',\n",
       " 'AB191',\n",
       " 'AB189']"
      ]
     },
     "execution_count": 56,
     "metadata": {},
     "output_type": "execute_result"
    }
   ],
   "source": [
    "import os\n",
    "os.listdir('../../../../../zhangkuangen/Zeyu/Dataset')"
   ]
  },
  {
   "cell_type": "code",
   "execution_count": 55,
   "metadata": {},
   "outputs": [
    {
     "data": {
      "text/plain": [
       "'/home/jupyter/human-locomotion-prediction/Zeyu/1-Python Files/ScriptRunInServer'"
      ]
     },
     "execution_count": 55,
     "metadata": {},
     "output_type": "execute_result"
    }
   ],
   "source": [
    "os.getcwd()"
   ]
  }
 ],
 "metadata": {
  "kernelspec": {
   "display_name": "Python 3",
   "language": "python",
   "name": "python3"
  },
  "language_info": {
   "codemirror_mode": {
    "name": "ipython",
    "version": 3
   },
   "file_extension": ".py",
   "mimetype": "text/x-python",
   "name": "python",
   "nbconvert_exporter": "python",
   "pygments_lexer": "ipython3",
   "version": "3.5.3"
  }
 },
 "nbformat": 4,
 "nbformat_minor": 2
}
