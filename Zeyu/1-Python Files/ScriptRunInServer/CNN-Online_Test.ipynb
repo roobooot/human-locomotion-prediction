{
 "cells": [
  {
   "cell_type": "code",
   "execution_count": null,
   "metadata": {},
   "outputs": [],
   "source": [
    "import model_server"
   ]
  },
  {
   "cell_type": "code",
   "execution_count": 2,
   "metadata": {},
   "outputs": [],
   "source": [
    "OnlineData = model_server.DATA(ReadALLSubjs=True,SplitData=True)"
   ]
  },
  {
   "cell_type": "code",
   "execution_count": 3,
   "metadata": {},
   "outputs": [
    {
     "name": "stdout",
     "output_type": "stream",
     "text": [
      "Scaning the AB193 subject is done.\n",
      "Scaning the AB186 subject is done.\n",
      "Scaning the AB192 subject is done.\n",
      "Scaning the AB156 subject is done.\n",
      "Scaning the AB188 subject is done.\n",
      "Scaning the AB190 subject is done.\n",
      "Scaning the AB194 subject is done.\n",
      "Scaning the AB185 subject is done.\n",
      "Scaning the AB191 subject is done.\n",
      "Scaning the AB189 subject is done.\n"
     ]
    }
   ],
   "source": [
    "OnlineData.scandata()"
   ]
  },
  {
   "cell_type": "code",
   "execution_count": 4,
   "metadata": {},
   "outputs": [
    {
     "name": "stdout",
     "output_type": "stream",
     "text": [
      "38 channels of ['IMU', 'GONIO'] data are selected:\n",
      "Start stacking data...(Split data into train set and val set), and split ratio is  0.33\n",
      "Finish stacking data of the 1 subjects: 50 trails\n",
      "Finish stacking data of the 2 subjects: 44 trails\n",
      "Finish stacking data of the 3 subjects: 48 trails\n",
      "Finish stacking data of the 4 subjects: 50 trails\n",
      "Finish stacking data of the 5 subjects: 40 trails\n",
      "Finish stacking data of the 6 subjects: 49 trails\n",
      "Finish stacking data of the 7 subjects: 50 trails\n",
      "Finish stacking data of the 8 subjects: 52 trails\n",
      "Finish stacking data of the 9 subjects: 44 trails\n",
      "Finish stacking data of the 10 subjects: 49 trails\n",
      "Done stacking data! \n",
      "Train dataset: (8013012, 38) \n",
      "Val dataset: (3705714, 38)\n"
     ]
    }
   ],
   "source": [
    "OnlineData.stackdata(ChooseSensors=['IMU','GONIO'])"
   ]
  },
  {
   "cell_type": "code",
   "execution_count": 23,
   "metadata": {},
   "outputs": [
    {
     "name": "stdout",
     "output_type": "stream",
     "text": [
      "The preprocess method is AbsMax\n"
     ]
    },
    {
     "ename": "MemoryError",
     "evalue": "",
     "output_type": "error",
     "traceback": [
      "\u001b[0;31m---------------------------------------------------------------------------\u001b[0m",
      "\u001b[0;31mMemoryError\u001b[0m                               Traceback (most recent call last)",
      "\u001b[0;32m<ipython-input-23-b2a73b2290c2>\u001b[0m in \u001b[0;36m<module>\u001b[0;34m\u001b[0m\n\u001b[0;32m----> 1\u001b[0;31m \u001b[0mOnlineData\u001b[0m\u001b[0;34m.\u001b[0m\u001b[0mPreprocessData\u001b[0m\u001b[0;34m(\u001b[0m\u001b[0;34m'AbsMax'\u001b[0m\u001b[0;34m)\u001b[0m\u001b[0;34m\u001b[0m\u001b[0m\n\u001b[0m",
      "\u001b[0;32m~/human-locomotion-prediction/Zeyu/1-Python Files/ScriptRunInServer/model_server.py\u001b[0m in \u001b[0;36mPreprocessData\u001b[0;34m(self, Preprocess)\u001b[0m\n\u001b[1;32m    121\u001b[0m         \u001b[0;32mif\u001b[0m \u001b[0mself\u001b[0m\u001b[0;34m.\u001b[0m\u001b[0mIfSplitData\u001b[0m\u001b[0;34m:\u001b[0m\u001b[0;34m\u001b[0m\u001b[0m\n\u001b[1;32m    122\u001b[0m             \u001b[0;32mtry\u001b[0m\u001b[0;34m:\u001b[0m\u001b[0;34m\u001b[0m\u001b[0m\n\u001b[0;32m--> 123\u001b[0;31m                 \u001b[0mself\u001b[0m\u001b[0;34m.\u001b[0m\u001b[0mTRAIN_DATA_all\u001b[0m \u001b[0;34m=\u001b[0m \u001b[0mscaler\u001b[0m\u001b[0;34m.\u001b[0m\u001b[0mfit_transform\u001b[0m\u001b[0;34m(\u001b[0m\u001b[0mself\u001b[0m\u001b[0;34m.\u001b[0m\u001b[0mTRAIN_DATA_all\u001b[0m\u001b[0;34m)\u001b[0m\u001b[0;34m\u001b[0m\u001b[0m\n\u001b[0m\u001b[1;32m    124\u001b[0m                 \u001b[0mself\u001b[0m\u001b[0;34m.\u001b[0m\u001b[0mVAL_DATA_all\u001b[0m \u001b[0;34m=\u001b[0m \u001b[0mscaler\u001b[0m\u001b[0;34m.\u001b[0m\u001b[0mfit_transform\u001b[0m\u001b[0;34m(\u001b[0m\u001b[0mself\u001b[0m\u001b[0;34m.\u001b[0m\u001b[0mVAL_DATA_all\u001b[0m\u001b[0;34m)\u001b[0m\u001b[0;34m\u001b[0m\u001b[0m\n\u001b[1;32m    125\u001b[0m             \u001b[0;32mexcept\u001b[0m \u001b[0mNameError\u001b[0m\u001b[0;34m:\u001b[0m\u001b[0;34m\u001b[0m\u001b[0m\n",
      "\u001b[0;32m/usr/local/lib/python3.5/site-packages/sklearn/base.py\u001b[0m in \u001b[0;36mfit_transform\u001b[0;34m(self, X, y, **fit_params)\u001b[0m\n\u001b[1;32m    515\u001b[0m         \u001b[0;32mif\u001b[0m \u001b[0my\u001b[0m \u001b[0;32mis\u001b[0m \u001b[0;32mNone\u001b[0m\u001b[0;34m:\u001b[0m\u001b[0;34m\u001b[0m\u001b[0m\n\u001b[1;32m    516\u001b[0m             \u001b[0;31m# fit method of arity 1 (unsupervised transformation)\u001b[0m\u001b[0;34m\u001b[0m\u001b[0;34m\u001b[0m\u001b[0m\n\u001b[0;32m--> 517\u001b[0;31m             \u001b[0;32mreturn\u001b[0m \u001b[0mself\u001b[0m\u001b[0;34m.\u001b[0m\u001b[0mfit\u001b[0m\u001b[0;34m(\u001b[0m\u001b[0mX\u001b[0m\u001b[0;34m,\u001b[0m \u001b[0;34m**\u001b[0m\u001b[0mfit_params\u001b[0m\u001b[0;34m)\u001b[0m\u001b[0;34m.\u001b[0m\u001b[0mtransform\u001b[0m\u001b[0;34m(\u001b[0m\u001b[0mX\u001b[0m\u001b[0;34m)\u001b[0m\u001b[0;34m\u001b[0m\u001b[0m\n\u001b[0m\u001b[1;32m    518\u001b[0m         \u001b[0;32melse\u001b[0m\u001b[0;34m:\u001b[0m\u001b[0;34m\u001b[0m\u001b[0m\n\u001b[1;32m    519\u001b[0m             \u001b[0;31m# fit method of arity 2 (supervised transformation)\u001b[0m\u001b[0;34m\u001b[0m\u001b[0;34m\u001b[0m\u001b[0m\n",
      "\u001b[0;32m/usr/local/lib/python3.5/site-packages/sklearn/preprocessing/data.py\u001b[0m in \u001b[0;36mfit\u001b[0;34m(self, X, y)\u001b[0m\n\u001b[1;32m    808\u001b[0m         \u001b[0;31m# Reset internal state before fitting\u001b[0m\u001b[0;34m\u001b[0m\u001b[0;34m\u001b[0m\u001b[0m\n\u001b[1;32m    809\u001b[0m         \u001b[0mself\u001b[0m\u001b[0;34m.\u001b[0m\u001b[0m_reset\u001b[0m\u001b[0;34m(\u001b[0m\u001b[0;34m)\u001b[0m\u001b[0;34m\u001b[0m\u001b[0m\n\u001b[0;32m--> 810\u001b[0;31m         \u001b[0;32mreturn\u001b[0m \u001b[0mself\u001b[0m\u001b[0;34m.\u001b[0m\u001b[0mpartial_fit\u001b[0m\u001b[0;34m(\u001b[0m\u001b[0mX\u001b[0m\u001b[0;34m,\u001b[0m \u001b[0my\u001b[0m\u001b[0;34m)\u001b[0m\u001b[0;34m\u001b[0m\u001b[0m\n\u001b[0m\u001b[1;32m    811\u001b[0m \u001b[0;34m\u001b[0m\u001b[0m\n\u001b[1;32m    812\u001b[0m     \u001b[0;32mdef\u001b[0m \u001b[0mpartial_fit\u001b[0m\u001b[0;34m(\u001b[0m\u001b[0mself\u001b[0m\u001b[0;34m,\u001b[0m \u001b[0mX\u001b[0m\u001b[0;34m,\u001b[0m \u001b[0my\u001b[0m\u001b[0;34m=\u001b[0m\u001b[0;32mNone\u001b[0m\u001b[0;34m)\u001b[0m\u001b[0;34m:\u001b[0m\u001b[0;34m\u001b[0m\u001b[0m\n",
      "\u001b[0;32m/usr/local/lib/python3.5/site-packages/sklearn/preprocessing/data.py\u001b[0m in \u001b[0;36mpartial_fit\u001b[0;34m(self, X, y)\u001b[0m\n\u001b[1;32m    825\u001b[0m         \"\"\"\n\u001b[1;32m    826\u001b[0m         X = check_array(X, accept_sparse=('csr', 'csc'), copy=self.copy,\n\u001b[0;32m--> 827\u001b[0;31m                         estimator=self, dtype=FLOAT_DTYPES)\n\u001b[0m\u001b[1;32m    828\u001b[0m \u001b[0;34m\u001b[0m\u001b[0m\n\u001b[1;32m    829\u001b[0m         \u001b[0;32mif\u001b[0m \u001b[0msparse\u001b[0m\u001b[0;34m.\u001b[0m\u001b[0missparse\u001b[0m\u001b[0;34m(\u001b[0m\u001b[0mX\u001b[0m\u001b[0;34m)\u001b[0m\u001b[0;34m:\u001b[0m\u001b[0;34m\u001b[0m\u001b[0m\n",
      "\u001b[0;32m/usr/local/lib/python3.5/site-packages/sklearn/utils/validation.py\u001b[0m in \u001b[0;36mcheck_array\u001b[0;34m(array, accept_sparse, dtype, order, copy, force_all_finite, ensure_2d, allow_nd, ensure_min_samples, ensure_min_features, warn_on_dtype, estimator)\u001b[0m\n\u001b[1;32m    442\u001b[0m             \u001b[0marray\u001b[0m \u001b[0;34m=\u001b[0m \u001b[0mnp\u001b[0m\u001b[0;34m.\u001b[0m\u001b[0matleast_2d\u001b[0m\u001b[0;34m(\u001b[0m\u001b[0marray\u001b[0m\u001b[0;34m)\u001b[0m\u001b[0;34m\u001b[0m\u001b[0m\n\u001b[1;32m    443\u001b[0m             \u001b[0;31m# To ensure that array flags are maintained\u001b[0m\u001b[0;34m\u001b[0m\u001b[0;34m\u001b[0m\u001b[0m\n\u001b[0;32m--> 444\u001b[0;31m             \u001b[0marray\u001b[0m \u001b[0;34m=\u001b[0m \u001b[0mnp\u001b[0m\u001b[0;34m.\u001b[0m\u001b[0marray\u001b[0m\u001b[0;34m(\u001b[0m\u001b[0marray\u001b[0m\u001b[0;34m,\u001b[0m \u001b[0mdtype\u001b[0m\u001b[0;34m=\u001b[0m\u001b[0mdtype\u001b[0m\u001b[0;34m,\u001b[0m \u001b[0morder\u001b[0m\u001b[0;34m=\u001b[0m\u001b[0morder\u001b[0m\u001b[0;34m,\u001b[0m \u001b[0mcopy\u001b[0m\u001b[0;34m=\u001b[0m\u001b[0mcopy\u001b[0m\u001b[0;34m)\u001b[0m\u001b[0;34m\u001b[0m\u001b[0m\n\u001b[0m\u001b[1;32m    445\u001b[0m \u001b[0;34m\u001b[0m\u001b[0m\n\u001b[1;32m    446\u001b[0m         \u001b[0;31m# make sure we actually converted to numeric:\u001b[0m\u001b[0;34m\u001b[0m\u001b[0;34m\u001b[0m\u001b[0m\n",
      "\u001b[0;31mMemoryError\u001b[0m: "
     ]
    }
   ],
   "source": [
    "OnlineData.PreprocessData('AbsMax')"
   ]
  },
  {
   "cell_type": "code",
   "execution_count": 5,
   "metadata": {},
   "outputs": [
    {
     "name": "stdout",
     "output_type": "stream",
     "text": [
      "\n",
      "Configuration:\n",
      "CHOOSEDCHANNELS                [0, 1, 2, 3, 4, 5, 6, 7, 8, 9, 10, 11, 12, 13, 14, 15, 16, 17, 18, 19, 20, 21, 22, 23, 24, 25, 26, 27, 28, 29, 44, 45, 46, 47, 48, 49, 50, 51]\n",
      "DATAPATH                       ../../../../Dataset\n",
      "DataType                       ['Features', 'MVC', 'Processed', 'Raw']\n",
      "INDEX_EMG                      [30, 31, 32, 33, 34, 35, 36, 37, 38, 39, 40, 41, 42, 43]\n",
      "INDEX_GONIO                    [44, 45, 46, 47, 48, 49, 50, 51]\n",
      "INDEX_IMU                      [0, 1, 2, 3, 4, 5, 6, 7, 8, 9, 10, 11, 12, 13, 14, 15, 16, 17, 18, 19, 20, 21, 22, 23, 24, 25, 26, 27, 28, 29]\n",
      "IfReadAll                      True\n",
      "IfSplitData                    True\n",
      "LABELCATEGORIES                ['Sitting', 'Level Ground Walking', 'Ramp Ascent', 'Ramp Descent', 'Stair Ascent', 'Stair Descent', 'Standing']\n",
      "LEARNING_RATE                  0.001\n",
      "MAXABS_PREPROCESS              False\n",
      "SCANEDSubjects                 None\n",
      "SPILTRATIO                     0.33\n",
      "STEPS_PER_EPOCH                1000\n",
      "STEP_SIZE                      50\n",
      "Subjects                       ['AB193', 'AB186', 'AB192', 'AB156', 'AB188', 'AB190', 'AB194', 'AB185', 'AB191', 'AB189']\n",
      "TRAIN_DATA_all                 [[-9.6580666e-01  1.8433407e-01 -1.2560885e-01 ...  8.5109431e-01\n",
      "  -2.0165258e+01 -1.4340836e+01]\n",
      " [-9.6547586e-01  1.8445905e-01 -1.2540466e-01 ...  8.5109431e-01\n",
      "  -2.0165258e+01 -1.4340836e+01]\n",
      " [-9.6515924e-01  1.8456300e-01 -1.2530944e-01 ...  9.0632337e-01\n",
      "  -1.9860010e+01 -1.3751989e+01]\n",
      " ...\n",
      " [-6.6869223e-01 -8.7063819e-02  6.9327664e-01 ...  2.9764819e+02\n",
      "  -7.4185147e+00  4.1854805e+01]\n",
      " [-6.7660576e-01 -7.8737229e-02  6.9156563e-01 ...  2.9919830e+02\n",
      "  -7.4912558e+00  4.1445816e+01]\n",
      " [-6.8476808e-01 -7.0926517e-02  6.8978709e-01 ...  3.0062823e+02\n",
      "  -7.5936203e+00  4.1092106e+01]]\n",
      "TRAIN_LABEL_all                [[1. 0. 0. ... 0. 0. 0.]\n",
      " [1. 0. 0. ... 0. 0. 0.]\n",
      " [1. 0. 0. ... 0. 0. 0.]\n",
      " ...\n",
      " [0. 1. 0. ... 0. 0. 0.]\n",
      " [0. 1. 0. ... 0. 0. 0.]\n",
      " [0. 1. 0. ... 0. 0. 0.]]\n",
      "VAL_DATA_all                   [[-9.3951398e-01  6.4581621e-01 -3.9213416e-01 ...  1.4388388e+01\n",
      "  -1.7058456e+02 -2.3510530e+02]\n",
      " [-9.4266129e-01  6.2942094e-01 -3.9437509e-01 ...  1.5688837e+01\n",
      "  -1.7107355e+02 -2.3509505e+02]\n",
      " [-9.4663411e-01  6.0979134e-01 -3.9643711e-01 ...  1.6725492e+01\n",
      "  -1.7180458e+02 -2.3514555e+02]\n",
      " ...\n",
      " [-9.5060736e-01 -5.0775670e-02  2.9205316e-01 ... -5.1305979e-01\n",
      "  -3.0978968e+00  1.5962611e+00]\n",
      " [-9.5074123e-01 -5.1106673e-02  2.9191589e-01 ... -4.0803421e-01\n",
      "  -3.3889546e+00  2.0227175e+00]\n",
      " [-9.5088875e-01 -5.1429052e-02  2.9175392e-01 ... -4.0803421e-01\n",
      "  -3.3889546e+00  2.0227175e+00]]\n",
      "VAL_LABEL_all                  [[0. 1. 0. ... 0. 0. 0.]\n",
      " [0. 1. 0. ... 0. 0. 0.]\n",
      " [0. 1. 0. ... 0. 0. 0.]\n",
      " ...\n",
      " [1. 0. 0. ... 0. 0. 0.]\n",
      " [1. 0. 0. ... 0. 0. 0.]\n",
      " [1. 0. 0. ... 0. 0. 0.]]\n",
      "WINDOW_SIZE                    100\n",
      "\n",
      "\n"
     ]
    }
   ],
   "source": [
    "OnlineData.displayConfig()"
   ]
  },
  {
   "cell_type": "code",
   "execution_count": 7,
   "metadata": {},
   "outputs": [
    {
     "data": {
      "text/plain": [
       "(8013012, 38)"
      ]
     },
     "execution_count": 7,
     "metadata": {},
     "output_type": "execute_result"
    }
   ],
   "source": [
    "OnlineData.TRAIN_DATA_all.shape"
   ]
  },
  {
   "cell_type": "code",
   "execution_count": 12,
   "metadata": {},
   "outputs": [
    {
     "name": "stdout",
     "output_type": "stream",
     "text": [
      "_________________________________________________________________\n",
      "Layer (type)                 Output Shape              Param #   \n",
      "=================================================================\n",
      "lstm_3 (LSTM)                (None, 512)               1128448   \n",
      "_________________________________________________________________\n",
      "dense_3 (Dense)              (None, 7)                 3591      \n",
      "=================================================================\n",
      "Total params: 1,132,039\n",
      "Trainable params: 1,132,039\n",
      "Non-trainable params: 0\n",
      "_________________________________________________________________\n"
     ]
    }
   ],
   "source": [
    "from keras.models import Sequential\n",
    "from keras.layers import LSTM, Dense\n",
    "\n",
    "model_rnn = Sequential()\n",
    "model_rnn.add(LSTM(512, input_shape=(None, OnlineData.TRAIN_DATA_all.shape[1]),\n",
    "                    dropout=0.5))\n",
    "model_rnn.add(Dense(OnlineData.TRAIN_LABEL_all.shape[1], activation='softmax'))\n",
    "model_rnn.compile(loss='mean_squared_error', optimizer='adam', metrics=['accuracy'])\n",
    "model_rnn.summary()"
   ]
  },
  {
   "cell_type": "code",
   "execution_count": null,
   "metadata": {},
   "outputs": [],
   "source": [
    "TenEpochesWithDropout = model_rnn.fit(\n",
    "    OnlineData.TRAIN_DATA_all.reshape((OnlineData.TRAIN_DATA_all.shape[0], 1, OnlineData.TRAIN_DATA_all.shape[1])),\n",
    "    OnlineData.TRAIN_LABEL_all, epochs=10,\n",
    "    validation_data=(\n",
    "        OnlineData.VAL_DATA_all.reshape((OnlineData.VAL_DATA_all.shape[0], 1, OnlineData.VAL_DATA_all.shape[1])),\n",
    "        OnlineData.VAL_LABEL_all))"
   ]
  },
  {
   "cell_type": "code",
   "execution_count": null,
   "metadata": {},
   "outputs": [],
   "source": []
  }
 ],
 "metadata": {
  "kernelspec": {
   "display_name": "Python 3",
   "language": "python",
   "name": "python3"
  },
  "language_info": {
   "codemirror_mode": {
    "name": "ipython",
    "version": 3
   },
   "file_extension": ".py",
   "mimetype": "text/x-python",
   "name": "python",
   "nbconvert_exporter": "python",
   "pygments_lexer": "ipython3",
   "version": "3.5.3"
  }
 },
 "nbformat": 4,
 "nbformat_minor": 2
}
